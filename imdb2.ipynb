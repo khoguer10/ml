{
  "nbformat": 4,
  "nbformat_minor": 0,
  "metadata": {
    "colab": {
      "name": "Untitled2.ipynb",
      "provenance": [],
      "collapsed_sections": [],
      "authorship_tag": "ABX9TyN3wjk5CNQcFQGORskMSle0",
      "include_colab_link": true
    },
    "kernelspec": {
      "name": "python3",
      "display_name": "Python 3"
    }
  },
  "cells": [
    {
      "cell_type": "markdown",
      "metadata": {
        "id": "view-in-github",
        "colab_type": "text"
      },
      "source": [
        "<a href=\"https://colab.research.google.com/github/rfflpllcn/ml/blob/master/imdb2.ipynb\" target=\"_parent\"><img src=\"https://colab.research.google.com/assets/colab-badge.svg\" alt=\"Open In Colab\"/></a>"
      ]
    },
    {
      "cell_type": "code",
      "metadata": {
        "id": "zTwOR9iVgFzJ",
        "colab_type": "code",
        "colab": {}
      },
      "source": [
        "import numpy as np\n",
        "import tensorflow as tf\n",
        "import tensorflow_hub as hub\n",
        "import tensorflow_datasets as tfds"
      ],
      "execution_count": 0,
      "outputs": []
    },
    {
      "cell_type": "markdown",
      "metadata": {
        "id": "UnKt217ToNI7",
        "colab_type": "text"
      },
      "source": [
        "IMDB Data"
      ]
    },
    {
      "cell_type": "code",
      "metadata": {
        "id": "O12VvINIkESf",
        "colab_type": "code",
        "colab": {}
      },
      "source": [
        "# Split the training set into 60% and 40%, so we'll end up with 15,000 examples\n",
        "# for training, 10,000 examples for validation and 25,000 examples for testing.\n",
        "# usage: train_examples_batch, train_labels_batch = next(iter(train_data.batch(10)))\n",
        "train_data, validation_data, test_data = tfds.load(\n",
        "    name=\"imdb_reviews\", \n",
        "    split=('train[:60%]', 'train[60%:]', 'test'),\n",
        "    as_supervised=True)"
      ],
      "execution_count": 0,
      "outputs": []
    },
    {
      "cell_type": "markdown",
      "metadata": {
        "id": "nXP3lkbzoKNx",
        "colab_type": "text"
      },
      "source": [
        "Embedding layer"
      ]
    },
    {
      "cell_type": "code",
      "metadata": {
        "id": "48u1PYhofmLG",
        "colab_type": "code",
        "colab": {}
      },
      "source": [
        "# embed_model = \"https://tfhub.dev/google/tf2-preview/gnews-swivel-20dim/1\"\n",
        "embed_model = \"https://tfhub.dev/google/tf2-preview/nnlm-en-dim128/1\"  # Even larger model with ~1M vocabulary size and 128 dimensions\n",
        "embed_layer = hub.KerasLayer(embed_model, output_shape=[20], input_shape=[], \n",
        "                           dtype=tf.string, trainable=True)"
      ],
      "execution_count": 0,
      "outputs": []
    },
    {
      "cell_type": "markdown",
      "metadata": {
        "id": "P9sM5IcqoXHy",
        "colab_type": "text"
      },
      "source": [
        "Model"
      ]
    },
    {
      "cell_type": "code",
      "metadata": {
        "id": "aSsTePlZob0v",
        "colab_type": "code",
        "colab": {}
      },
      "source": [
        "model = tf.keras.Sequential()\n",
        "model.add(embed_layer)\n",
        "#model.add(tf.keras.layers.Embedding(20000, 20))\n",
        "model.add(tf.keras.layers.Flatten())\n",
        "model.add(tf.keras.layers.Dense(32, activation='relu'))\n",
        "model.add(tf.keras.layers.Dense(1))"
      ],
      "execution_count": 0,
      "outputs": []
    },
    {
      "cell_type": "code",
      "metadata": {
        "id": "cNC_IeQHgd6g",
        "colab_type": "code",
        "colab": {}
      },
      "source": [
        "model.compile(optimizer='adam',\n",
        "              loss=tf.keras.losses.BinaryCrossentropy(from_logits=True),\n",
        "              metrics=['accuracy'])"
      ],
      "execution_count": 0,
      "outputs": []
    },
    {
      "cell_type": "code",
      "metadata": {
        "id": "MnufkEX8f62z",
        "colab_type": "code",
        "colab": {
          "base_uri": "https://localhost:8080/",
          "height": 697
        },
        "outputId": "331a9c15-b80e-4d0f-8a5f-d3e749272d9c"
      },
      "source": [
        "history = model.fit(train_data.shuffle(10000).batch(512),\n",
        "                    epochs=20,\n",
        "                    validation_data=validation_data.batch(512),\n",
        "                    verbose=1)"
      ],
      "execution_count": 45,
      "outputs": [
        {
          "output_type": "stream",
          "text": [
            "Epoch 1/20\n",
            "30/30 [==============================] - 50s 2s/step - loss: 0.6277 - accuracy: 0.5603 - val_loss: 0.5356 - val_accuracy: 0.6955\n",
            "Epoch 2/20\n",
            "30/30 [==============================] - 46s 2s/step - loss: 0.4177 - accuracy: 0.8109 - val_loss: 0.3648 - val_accuracy: 0.8445\n",
            "Epoch 3/20\n",
            "30/30 [==============================] - 45s 2s/step - loss: 0.2508 - accuracy: 0.9043 - val_loss: 0.3062 - val_accuracy: 0.8648\n",
            "Epoch 4/20\n",
            "30/30 [==============================] - 46s 2s/step - loss: 0.1538 - accuracy: 0.9484 - val_loss: 0.2952 - val_accuracy: 0.8686\n",
            "Epoch 5/20\n",
            "30/30 [==============================] - 47s 2s/step - loss: 0.0933 - accuracy: 0.9754 - val_loss: 0.3018 - val_accuracy: 0.8750\n",
            "Epoch 6/20\n",
            "30/30 [==============================] - 46s 2s/step - loss: 0.0542 - accuracy: 0.9904 - val_loss: 0.3207 - val_accuracy: 0.8717\n",
            "Epoch 7/20\n",
            "30/30 [==============================] - 46s 2s/step - loss: 0.0322 - accuracy: 0.9957 - val_loss: 0.3469 - val_accuracy: 0.8719\n",
            "Epoch 8/20\n",
            "30/30 [==============================] - 45s 1s/step - loss: 0.0191 - accuracy: 0.9990 - val_loss: 0.3665 - val_accuracy: 0.8694\n",
            "Epoch 9/20\n",
            "30/30 [==============================] - 47s 2s/step - loss: 0.0118 - accuracy: 0.9995 - val_loss: 0.3860 - val_accuracy: 0.8693\n",
            "Epoch 10/20\n",
            "30/30 [==============================] - 46s 2s/step - loss: 0.0079 - accuracy: 0.9999 - val_loss: 0.4045 - val_accuracy: 0.8691\n",
            "Epoch 11/20\n",
            "30/30 [==============================] - 46s 2s/step - loss: 0.0057 - accuracy: 0.9999 - val_loss: 0.4221 - val_accuracy: 0.8680\n",
            "Epoch 12/20\n",
            "30/30 [==============================] - 45s 2s/step - loss: 0.0041 - accuracy: 0.9999 - val_loss: 0.4377 - val_accuracy: 0.8677\n",
            "Epoch 13/20\n",
            "30/30 [==============================] - 49s 2s/step - loss: 0.0031 - accuracy: 1.0000 - val_loss: 0.4523 - val_accuracy: 0.8671\n",
            "Epoch 14/20\n",
            "30/30 [==============================] - 47s 2s/step - loss: 0.0025 - accuracy: 1.0000 - val_loss: 0.4647 - val_accuracy: 0.8670\n",
            "Epoch 15/20\n",
            "30/30 [==============================] - 47s 2s/step - loss: 0.0020 - accuracy: 1.0000 - val_loss: 0.4775 - val_accuracy: 0.8659\n",
            "Epoch 16/20\n",
            "30/30 [==============================] - 44s 1s/step - loss: 0.0016 - accuracy: 1.0000 - val_loss: 0.4874 - val_accuracy: 0.8665\n",
            "Epoch 17/20\n",
            "30/30 [==============================] - 46s 2s/step - loss: 0.0014 - accuracy: 1.0000 - val_loss: 0.4984 - val_accuracy: 0.8655\n",
            "Epoch 18/20\n",
            "30/30 [==============================] - 46s 2s/step - loss: 0.0012 - accuracy: 1.0000 - val_loss: 0.5082 - val_accuracy: 0.8651\n",
            "Epoch 19/20\n",
            "30/30 [==============================] - 45s 2s/step - loss: 0.0010 - accuracy: 1.0000 - val_loss: 0.5168 - val_accuracy: 0.8655\n",
            "Epoch 20/20\n",
            "30/30 [==============================] - 46s 2s/step - loss: 8.7102e-04 - accuracy: 1.0000 - val_loss: 0.5256 - val_accuracy: 0.8652\n"
          ],
          "name": "stdout"
        }
      ]
    },
    {
      "cell_type": "code",
      "metadata": {
        "id": "O5Zt1z3Qf8Gf",
        "colab_type": "code",
        "colab": {}
      },
      "source": [
        ""
      ],
      "execution_count": 0,
      "outputs": []
    }
  ]
}